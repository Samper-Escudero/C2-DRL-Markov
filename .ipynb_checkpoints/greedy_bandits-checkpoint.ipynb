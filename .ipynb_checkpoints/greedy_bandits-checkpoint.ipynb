{
 "cells": [
  {
   "cell_type": "markdown",
   "metadata": {},
   "source": [
    "The code is based on \"Deep Reinforcement Learning in Action\" Manning book by Alex Zai and Brandom Browm. There we are going to create an algorithm to solve multi-armed bandits.\n",
    "\n",
    "\n"
   ]
  },
  {
   "cell_type": "code",
   "execution_count": 4,
   "metadata": {},
   "outputs": [],
   "source": [
    "# Import some libraries\n",
    "import numpy as np\n",
    "import random\n",
    "import matplotlib.pyplot as plt"
   ]
  },
  {
   "cell_type": "code",
   "execution_count": 5,
   "metadata": {},
   "outputs": [],
   "source": [
    "# First we have to define the function for interacting with the environment.\n",
    "\n",
    "# The expected reward at play k for action a is the arithmetic mean of\n",
    "# all the previous rewards we've received for taking action\n",
    "\n",
    "def expected_reward(action, history):\n",
    "    exp_reward = sum(history[action])/ len(history[action])\n",
    "    return exp_reward\n"
   ]
  },
  {
   "cell_type": "code",
   "execution_count": 6,
   "metadata": {},
   "outputs": [],
   "source": [
    "# There are different policies to interact with the environment. In this first example, we use an \n",
    "# epsilon greedy policy\n",
    "\n",
    "def get_best_action(actions, history):\n",
    "    exp_rewards = {key:expected_reward(key,history) for key,vals in history.items()}\n",
    "    return max(exp_rewards, key = exp_rewards.get)"
   ]
  },
  {
   "cell_type": "code",
   "execution_count": 7,
   "metadata": {},
   "outputs": [
    {
     "name": "stdout",
     "output_type": "stream",
     "text": [
      "Exp reward from action 1:  8.0\n",
      "Exp reward from action 2:  4.0\n",
      "Exp reward from action 3:  5.5\n",
      "Best performing action: action 1\n"
     ]
    }
   ],
   "source": [
    "# let's evaluate this functions\n",
    "\n",
    "# define a history of plays\n",
    "history = {1:[5, 9, 10], 2:[4], 3:[4, 7]}\n",
    "\n",
    "# let's calculate the expected reward, which should be the avg value of the accum rewards of this action\n",
    "print(\"Exp reward from action 1: \", expected_reward(1, history)) # (5 + 9 + 10) / 3 = 8\n",
    "print(\"Exp reward from action 2: \", expected_reward(2, history)) # 4\n",
    "print(\"Exp reward from action 3: \", expected_reward(3,history)) # (4 + 7) / 2 = 5.5\n",
    "\n",
    "# best action should be 1\n",
    "print(\"Best performing action: action\",get_best_action(range(1,4), history))"
   ]
  },
  {
   "cell_type": "code",
   "execution_count": 8,
   "metadata": {},
   "outputs": [],
   "source": [
    "# Create the bandits, setting exploration ratio to 10%\n",
    "n = 10\n",
    "bandits = np.random.rand(n) #hidden probs associated with each arm\n",
    "eps = 0.1"
   ]
  },
  {
   "cell_type": "code",
   "execution_count": 9,
   "metadata": {},
   "outputs": [],
   "source": [
    "# Function to generate single rewards based on a probability.\n",
    "def reward(prob, max_reward =10):\n",
    "    # Initial reward set to 0\n",
    "    reward = 0\n",
    "    # Iterate as much times as max_reward\n",
    "    for i in range(max_reward):\n",
    "        # if a random number is higher than prob distribution\n",
    "        if random.random() < prob:\n",
    "            # Increase reward in one \n",
    "            reward += 1\n",
    "    return reward"
   ]
  },
  {
   "cell_type": "code",
   "execution_count": 14,
   "metadata": {},
   "outputs": [
    {
     "name": "stdout",
     "output_type": "stream",
     "text": [
      "Test reward f(x):  4\n"
     ]
    }
   ],
   "source": [
    "print(\"Test reward f(x): \", reward(0.6, 10))"
   ]
  },
  {
   "cell_type": "code",
   "execution_count": 15,
   "metadata": {},
   "outputs": [
    {
     "name": "stdout",
     "output_type": "stream",
     "text": [
      "Test reward f(x):  6\n"
     ]
    }
   ],
   "source": [
    "print(\"Test reward f(x): \", reward(0.6, 10))"
   ]
  },
  {
   "cell_type": "code",
   "execution_count": 17,
   "metadata": {},
   "outputs": [
    {
     "name": "stdout",
     "output_type": "stream",
     "text": [
      "Test reward f(x):  5\n"
     ]
    }
   ],
   "source": [
    "print(\"Test reward f(x): \", reward(0.6, 10))"
   ]
  },
  {
   "cell_type": "code",
   "execution_count": 18,
   "metadata": {},
   "outputs": [
    {
     "data": {
      "text/plain": [
       "Text(0, 0.5, 'Avg Reward')"
      ]
     },
     "execution_count": 18,
     "metadata": {},
     "output_type": "execute_result"
    },
    {
     "data": {
      "image/png": "[encoded data removed]",
      "text/plain": [
       "<Figure size 432x288 with 1 Axes>"
      ]
     },
     "metadata": {
      "needs_background": "light"
     },
     "output_type": "display_data"
    }
   ],
   "source": [
    "# Create graph to draw online\n",
    "plt.xlabel(\"Plays\")\n",
    "plt.ylabel(\"Avg Reward\")"
   ]
  },
  {
   "cell_type": "code",
   "execution_count": 19,
   "metadata": {},
   "outputs": [
    {
     "ename": "NameError",
     "evalue": "name 'get_best_arm' is not defined",
     "output_type": "error",
     "traceback": [
      "\u001b[0;31m---------------------------------------------------------------------------\u001b[0m",
      "\u001b[0;31mNameError\u001b[0m                                 Traceback (most recent call last)",
      "\u001b[0;32m<ipython-input-19-2b62dcece06c>\u001b[0m in \u001b[0;36m<module>\u001b[0;34m\u001b[0m\n\u001b[1;32m      1\u001b[0m \u001b[0;32mfor\u001b[0m \u001b[0mi\u001b[0m \u001b[0;32min\u001b[0m \u001b[0mrange\u001b[0m\u001b[0;34m(\u001b[0m\u001b[0;36m500\u001b[0m\u001b[0;34m)\u001b[0m\u001b[0;34m:\u001b[0m\u001b[0;34m\u001b[0m\u001b[0;34m\u001b[0m\u001b[0m\n\u001b[1;32m      2\u001b[0m     \u001b[0;32mif\u001b[0m \u001b[0mrandom\u001b[0m\u001b[0;34m.\u001b[0m\u001b[0mrandom\u001b[0m\u001b[0;34m(\u001b[0m\u001b[0;34m)\u001b[0m \u001b[0;34m>\u001b[0m \u001b[0meps\u001b[0m\u001b[0;34m:\u001b[0m\u001b[0;34m\u001b[0m\u001b[0;34m\u001b[0m\u001b[0m\n\u001b[0;32m----> 3\u001b[0;31m         \u001b[0mchoice\u001b[0m \u001b[0;34m=\u001b[0m \u001b[0mget_best_arm\u001b[0m\u001b[0;34m(\u001b[0m\u001b[0mpastRewards\u001b[0m\u001b[0;34m,\u001b[0m \u001b[0mactions\u001b[0m\u001b[0;34m)\u001b[0m\u001b[0;34m\u001b[0m\u001b[0;34m\u001b[0m\u001b[0m\n\u001b[0m\u001b[1;32m      4\u001b[0m     \u001b[0;32melse\u001b[0m\u001b[0;34m:\u001b[0m\u001b[0;34m\u001b[0m\u001b[0;34m\u001b[0m\u001b[0m\n\u001b[1;32m      5\u001b[0m         \u001b[0mchoice\u001b[0m \u001b[0;34m=\u001b[0m \u001b[0mnp\u001b[0m\u001b[0;34m.\u001b[0m\u001b[0mwhere\u001b[0m\u001b[0;34m(\u001b[0m\u001b[0marms\u001b[0m \u001b[0;34m==\u001b[0m \u001b[0mnp\u001b[0m\u001b[0;34m.\u001b[0m\u001b[0mrandom\u001b[0m\u001b[0;34m.\u001b[0m\u001b[0mchoice\u001b[0m\u001b[0;34m(\u001b[0m\u001b[0marms\u001b[0m\u001b[0;34m)\u001b[0m\u001b[0;34m)\u001b[0m\u001b[0;34m[\u001b[0m\u001b[0;36m0\u001b[0m\u001b[0;34m]\u001b[0m\u001b[0;34m[\u001b[0m\u001b[0;36m0\u001b[0m\u001b[0;34m]\u001b[0m\u001b[0;34m\u001b[0m\u001b[0;34m\u001b[0m\u001b[0m\n",
      "\u001b[0;31mNameError\u001b[0m: name 'get_best_arm' is not defined"
     ]
    }
   ],
   "source": [
    "for i in range(500):\n",
    "    if random.random() > eps:\n",
    "        choice = get_best_arm(pastRewards, actions)\n",
    "    else:\n",
    "        choice = np.where(arms == np.random.choice(arms))[0][0]\n",
    "    thisAV = np.array([[choice, reward(arms[choice])]])\n",
    "    av = np.vstack((av, thisAV))    \n",
    "    percCorrect = 100*(len(av[np.where(av[:,0] == np.argmax(arms))])/len(av))\n",
    "    runningMean = np.mean(av[:,1])\n",
    "    plt.scatter(i, runningMean)"
   ]
  },
  {
   "cell_type": "code",
   "execution_count": null,
   "metadata": {},
   "outputs": [],
   "source": []
  }
 ],
 "metadata": {
  "kernelspec": {
   "display_name": "Python 3",
   "language": "python",
   "name": "python3"
  },
  "language_info": {
   "codemirror_mode": {
    "name": "ipython",
    "version": 3
   },
   "file_extension": ".py",
   "mimetype": "text/x-python",
   "name": "python",
   "nbconvert_exporter": "python",
   "pygments_lexer": "ipython3",
   "version": "3.7.3"
  }
 },
 "nbformat": 4,
 "nbformat_minor": 2
}
