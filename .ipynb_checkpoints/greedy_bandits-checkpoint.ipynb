{
 "cells": [
  {
   "cell_type": "markdown",
   "metadata": {},
   "source": [
    "The code is based on \"Deep Reinforcement Learning in Action\" Manning book by Alex Zai and Brandom Browm. There we are going to create an algorithm to solve multi-armed bandits.\n",
    "\n",
    "\n"
   ]
  },
  {
   "cell_type": "code",
   "execution_count": 4,
   "metadata": {},
   "outputs": [],
   "source": [
    "# Import some libraries\n",
    "import numpy as np\n",
    "import random\n",
    "import matplotlib.pyplot as plt"
   ]
  },
  {
   "cell_type": "code",
   "execution_count": 179,
   "metadata": {},
   "outputs": [],
   "source": [
    "# First we have to define the function for interacting with the environment.\n",
    "\n",
    "# The expected reward at play k for action a is the arithmetic mean of\n",
    "# all the previous rewards we've received for taking action\n",
    "\n",
    "def expected_reward(action, history):\n",
    "    act_rewds = np.array([[act,rew] for act,rew in history if act == action ]);\n",
    "    exp_reward = sum(act_rewds[:,1])/len(act_rewds) if len(act_rewds) > 1 else 0\n",
    "    return exp_reward\n"
   ]
  },
  {
   "cell_type": "code",
   "execution_count": 246,
   "metadata": {},
   "outputs": [],
   "source": [
    "# There are different policies to interact with the environment. In this first example, we use an \n",
    "# epsilon greedy policy\n",
    "\n",
    "def get_best_action(actions, history):\n",
    "    exp_rewards = [expected_reward(action,history) for action in actions];\n",
    "    # print(exp_rewards)\n",
    "    # print(exp_rewards.index(max(exp_rewards)))\n",
    "    return exp_rewards.index(max(exp_rewards))"
   ]
  },
  {
   "cell_type": "code",
   "execution_count": 68,
   "metadata": {},
   "outputs": [
    {
     "name": "stdout",
     "output_type": "stream",
     "text": [
      "[[ 1  5]\n",
      " [ 2  4]\n",
      " [ 1  9]\n",
      " [ 3  4]\n",
      " [ 1 10]\n",
      " [ 3  7]]\n"
     ]
    }
   ],
   "source": [
    "# Evaluate these functions\n",
    "# define a history of plays: (action, reward)\n",
    "history = np.array([[1,5], [2,4], [1,9], [3,4], [1,10], [3,7]])\n",
    "print(history)"
   ]
  },
  {
   "cell_type": "code",
   "execution_count": 69,
   "metadata": {},
   "outputs": [
    {
     "data": {
      "text/plain": [
       "4"
      ]
     },
     "execution_count": 69,
     "metadata": {},
     "output_type": "execute_result"
    }
   ],
   "source": [
    "history[1]\n",
    "history[1,1]"
   ]
  },
  {
   "cell_type": "code",
   "execution_count": 74,
   "metadata": {},
   "outputs": [
    {
     "name": "stdout",
     "output_type": "stream",
     "text": [
      "Exp reward from action 1:  8.0\n",
      "Exp reward from action 2:  4.0\n",
      "Exp reward from action 3:  5.5\n"
     ]
    }
   ],
   "source": [
    "# Calculate the expected reward, which should be the avg value of the accum rewards of this action\n",
    "print(\"Exp reward from action 1: \", expected_reward(1, history)) # (5 + 9 + 10) / 3 = 8\n",
    "print(\"Exp reward from action 2: \", expected_reward(2, history)) # 4\n",
    "print(\"Exp reward from action 3: \", expected_reward(3,history)) # (4 + 7) / 2 = 5.5"
   ]
  },
  {
   "cell_type": "code",
   "execution_count": 84,
   "metadata": {},
   "outputs": [
    {
     "name": "stdout",
     "output_type": "stream",
     "text": [
      "Best performing action: action 3\n"
     ]
    }
   ],
   "source": [
    "# best action should be 1\n",
    "print(\"Best performing action: action\",get_best_action(range(1,4), history)[0])"
   ]
  },
  {
   "cell_type": "code",
   "execution_count": 9,
   "metadata": {},
   "outputs": [],
   "source": [
    "# Function to generate single rewards based on a probability.\n",
    "def reward(prob, max_reward = 10):\n",
    "    # Initial reward set to 0\n",
    "    reward = 0\n",
    "    # Iterate as much times as max_reward\n",
    "    for i in range(max_reward):\n",
    "        # if a random number is higher than prob distribution\n",
    "        if random.random() < prob:\n",
    "            # Increase reward in one \n",
    "            reward += 1\n",
    "    return reward"
   ]
  },
  {
   "cell_type": "code",
   "execution_count": 14,
   "metadata": {},
   "outputs": [
    {
     "name": "stdout",
     "output_type": "stream",
     "text": [
      "Test reward f(x):  4\n"
     ]
    }
   ],
   "source": [
    "print(\"Test reward f(x): \", reward(0.6, 10))"
   ]
  },
  {
   "cell_type": "code",
   "execution_count": 15,
   "metadata": {},
   "outputs": [
    {
     "name": "stdout",
     "output_type": "stream",
     "text": [
      "Test reward f(x):  6\n"
     ]
    }
   ],
   "source": [
    "print(\"Test reward f(x): \", reward(0.6, 10))"
   ]
  },
  {
   "cell_type": "code",
   "execution_count": 17,
   "metadata": {},
   "outputs": [
    {
     "name": "stdout",
     "output_type": "stream",
     "text": [
      "Test reward f(x):  5\n"
     ]
    }
   ],
   "source": [
    "print(\"Test reward f(x): \", reward(0.6, 10))"
   ]
  },
  {
   "cell_type": "code",
   "execution_count": 204,
   "metadata": {},
   "outputs": [],
   "source": [
    "# Create the bandits, setting exploration ratio to 10%\n",
    "bandits = 10\n",
    "b_probs = np.random.rand(bandits) #hidden probs associated with each arm\n",
    "eps = 0.25\n",
    "\n",
    "# learning epochs\n",
    "epochs = 1500"
   ]
  },
  {
   "cell_type": "code",
   "execution_count": 226,
   "metadata": {},
   "outputs": [],
   "source": [
    "# Function to store and update learning records\n",
    "# Directly copied from the book\n",
    "\n",
    "def update_record(record,action,r):\n",
    "    new_r = (record[action,0] * record[action,1] + r) / (record[action,0] + 1)\n",
    "    record[action,0] += 1\n",
    "    record[action,1] = new_r\n",
    "    return record"
   ]
  },
  {
   "cell_type": "code",
   "execution_count": 258,
   "metadata": {},
   "outputs": [
    {
     "name": "stdout",
     "output_type": "stream",
     "text": [
      "[[ 20.           7.        ]\n",
      " [ 13.           5.53846154]\n",
      " [ 11.           4.45454545]\n",
      " [ 10.           1.9       ]\n",
      " [ 11.           0.81818182]\n",
      " [ 10.           3.2       ]\n",
      " [  9.           5.        ]\n",
      " [282.           9.62765957]\n",
      " [ 11.           4.18181818]\n",
      " [123.           7.96747967]]\n"
     ]
    },
    {
     "data": {
      "image/png": "[encoded data removed]",
      "text/plain": [
       "<Figure size 432x288 with 1 Axes>"
      ]
     },
     "metadata": {
      "needs_background": "light"
     },
     "output_type": "display_data"
    }
   ],
   "source": [
    "# Create graph to draw online\n",
    "plt.xlabel(\"Plays\")\n",
    "plt.ylabel(\"Avg Reward\")\n",
    "record = np.zeros((n,2))\n",
    "\n",
    "Qa = []\n",
    "actions = range(bandits)\n",
    "# Start learning and plot rewards\n",
    "# Greedy explore-exploit with eps \n",
    "for epoch in range(epochs):\n",
    "    # Get random number\n",
    "    if epoch == 0 or random.random() < eps:\n",
    "        # Randomly explore in first epoch and eps of the time \n",
    "        choice = np.random.choice(actions);\n",
    "    else:\n",
    "        # Exploit otherwise\n",
    "        choice = get_best_action(actions, np.array(Qa)) if len(Qa) > 1 else Qa[0][0];\n",
    "    \n",
    "    #curr_Qa = np.array([[choice, reward(b_probs[choice])]])\n",
    "    r = reward(b_probs[choice]);\n",
    "    Qa.append([choice, r]);   \n",
    "    record = update_record(record,choice,r)\n",
    "    runningMean = np.mean(np.array(Qa)[:,1]);\n",
    "    plt.scatter(epoch, runningMean)\n",
    "    \n",
    "print(record)"
   ]
  },
  {
   "cell_type": "code",
   "execution_count": 273,
   "metadata": {},
   "outputs": [
    {
     "name": "stdout",
     "output_type": "stream",
     "text": [
      "[[ 49.           6.44897959]\n",
      " [ 17.           5.05882353]\n",
      " [  8.           3.5       ]\n",
      " [ 11.           1.54545455]\n",
      " [  7.           1.        ]\n",
      " [  8.           3.125     ]\n",
      " [ 13.           6.07692308]\n",
      " [367.           9.61307902]\n",
      " [ 13.           3.92307692]\n",
      " [  7.           7.14285714]]\n"
     ]
    },
    {
     "data": {
      "image/png": "[encoded data removed]",
      "text/plain": [
       "<Figure size 432x288 with 1 Axes>"
      ]
     },
     "metadata": {
      "needs_background": "light"
     },
     "output_type": "display_data"
    }
   ],
   "source": [
    "# Alternative method to calculate average from the book\n",
    "# Create graph to draw online\n",
    "plt.xlabel(\"Plays\")\n",
    "plt.ylabel(\"Avg Reward\")\n",
    "\n",
    "Qa = []\n",
    "actions = range(bandits)\n",
    "rewards = [0]\n",
    "record = np.zeros((n,2))\n",
    "# Start learning and plot rewards\n",
    "# Greedy explore-exploit with eps \n",
    "for epoch in range(epochs):\n",
    "    # Get random number\n",
    "    if epoch == 0 or random.random() < eps:\n",
    "        # Randomly explore in first epoch and eps of the time \n",
    "        choice = np.random.choice(actions);\n",
    "    else:\n",
    "        # Exploit otherwise\n",
    "        choice = get_best_action(actions, np.array(Qa)) if len(Qa) > 1 else Qa[0][0];\n",
    "    \n",
    "    #curr_Qa = np.array([[choice, reward(b_probs[choice])]])\n",
    "    r = reward(b_probs[choice]);\n",
    "    Qa.append([choice, r]);   \n",
    "    mean_reward = ((epoch+1) * rewards[-1] + r)/(epoch+2)\n",
    "    rewards.append(mean_reward)\n",
    "    runningMean = np.mean(np.array(Qa)[:,1]);\n",
    "    record = update_record(record,choice,r)\n",
    "    plt.scatter(epoch, mean_reward)\n",
    "    \n",
    "print(record)"
   ]
  },
  {
   "cell_type": "code",
   "execution_count": 262,
   "metadata": {},
   "outputs": [],
   "source": [
    "# Softmax selection \n",
    "def softmax_fn(av, tau = 1.12):\n",
    "    # Softmax gives us a probability distribution across our options.\n",
    "    # Therefore, we can explore while avoiding worst options\n",
    "    \n",
    "    # Params:\n",
    "    #   * vals = values to softmax\n",
    "    #   * tau = temperature to ponderate differences. High temp promotes\n",
    "    #              equality, whereas low temp exaggerate diff\n",
    "    # Return:\n",
    "    #   * softmaxed values\n",
    "    softm = ( np.exp(av / tau) / np.sum( np.exp(av / tau) ) )\n",
    "    return softm  "
   ]
  },
  {
   "cell_type": "code",
   "execution_count": 289,
   "metadata": {},
   "outputs": [
    {
     "name": "stdout",
     "output_type": "stream",
     "text": [
      "[[1.32000000e+02 6.75000000e+00]\n",
      " [3.60000000e+01 5.44444444e+00]\n",
      " [1.10000000e+01 3.63636364e+00]\n",
      " [1.10000000e+01 1.54545455e+00]\n",
      " [7.00000000e+00 1.00000000e+00]\n",
      " [9.00000000e+00 3.22222222e+00]\n",
      " [3.70000000e+01 5.56756757e+00]\n",
      " [7.59700000e+03 9.63472423e+00]\n",
      " [1.50000000e+01 3.93333333e+00]\n",
      " [6.45000000e+02 7.95813953e+00]]\n"
     ]
    },
    {
     "data": {
      "image/png": "[encoded data removed]",
      "text/plain": [
       "<Figure size 648x360 with 1 Axes>"
      ]
     },
     "metadata": {
      "needs_background": "light"
     },
     "output_type": "display_data"
    }
   ],
   "source": [
    "fig,ax = plt.subplots(1,1)\n",
    "ax.set_xlabel(\"Plays\")\n",
    "ax.set_ylabel(\"Avg Reward\")\n",
    "fig.set_size_inches(9,5)\n",
    "rewards = [0]\n",
    "\n",
    "\n",
    "for epoch in range(epochs):\n",
    "    p = softmax_fn(record[:,1],tau=0.7)\n",
    "    choice = np.random.choice(np.arange(bandits),p=p)\n",
    "    r = reward(b_probs[choice])\n",
    "    record = update_record(record,choice,r)\n",
    "    mean_reward = ((epoch+1) * rewards[-1] + r)/(epoch+2)\n",
    "    rewards.append(mean_reward)\n",
    "    \n",
    "ax.scatter(np.arange(len(rewards)),rewards)\n",
    "print(record)"
   ]
  },
  {
   "cell_type": "markdown",
   "metadata": {},
   "source": [
    "Result is similar but the learning has higher convergence "
   ]
  },
  {
   "cell_type": "code",
   "execution_count": null,
   "metadata": {},
   "outputs": [],
   "source": []
  },
  {
   "cell_type": "code",
   "execution_count": null,
   "metadata": {},
   "outputs": [],
   "source": []
  },
  {
   "cell_type": "code",
   "execution_count": null,
   "metadata": {},
   "outputs": [],
   "source": []
  },
  {
   "cell_type": "code",
   "execution_count": null,
   "metadata": {},
   "outputs": [],
   "source": []
  }
 ],
 "metadata": {
  "kernelspec": {
   "display_name": "Python 3",
   "language": "python",
   "name": "python3"
  },
  "language_info": {
   "codemirror_mode": {
    "name": "ipython",
    "version": 3
   },
   "file_extension": ".py",
   "mimetype": "text/x-python",
   "name": "python",
   "nbconvert_exporter": "python",
   "pygments_lexer": "ipython3",
   "version": "3.7.3"
  }
 },
 "nbformat": 4,
 "nbformat_minor": 2
}
