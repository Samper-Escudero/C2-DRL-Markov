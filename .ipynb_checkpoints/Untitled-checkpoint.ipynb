{
 "cells": [
  {
   "cell_type": "markdown",
   "metadata": {},
   "source": [
    "The code is based on \"Deep Reinforcement Learning in Action\" Manning book by Alex Zai and Brandom Browm. There we are going to create an algorithm to solve multi-armed bandits.\n",
    "\n",
    "\n"
   ]
  },
  {
   "cell_type": "code",
   "execution_count": 35,
   "metadata": {},
   "outputs": [],
   "source": [
    "# First we have to define the function for interacting with the environment.\n",
    "\n",
    "# The expected reward at play k for action a is the arithmetic mean of\n",
    "# all the previous rewards we've received for taking action\n",
    "\n",
    "def expected_reward(action, history):\n",
    "    exp_reward = sum(history[action])/ len(history[action])\n",
    "    return exp_reward\n"
   ]
  },
  {
   "cell_type": "code",
   "execution_count": 74,
   "metadata": {},
   "outputs": [],
   "source": [
    "# There are different policies to interact with the environment. In this first example, we use an \n",
    "# epsilon greedy policy\n",
    "\n",
    "def get_best_action(actions, history):\n",
    "    exp_rewards = {key:expected_reward(key,history) for key,vals in history.items()}\n",
    "    return max(exp_rewards, key = exp_rewards.get)"
   ]
  },
  {
   "cell_type": "code",
   "execution_count": 80,
   "metadata": {},
   "outputs": [
    {
     "name": "stdout",
     "output_type": "stream",
     "text": [
      "Exp reward from action 1:  8.0\n",
      "Exp reward from action 2:  4.0\n",
      "Exp reward from action 3:  5.5\n",
      "Best performing action: action 1\n"
     ]
    }
   ],
   "source": [
    "# let's evaluate this functions\n",
    "\n",
    "# define a history of plays\n",
    "history = {1:[5, 9, 10], 2:[4], 3:[4, 7]}\n",
    "\n",
    "# let's calculate the expected reward, which should be the avg value of the accum rewards of this action\n",
    "print(\"Exp reward from action 1: \", expected_reward(1, history)) # (5 + 9 + 10) / 3 = 8\n",
    "print(\"Exp reward from action 2: \", expected_reward(2, history)) # 4\n",
    "print(\"Exp reward from action 3: \", expected_reward(3,history)) # (4 + 7) / 2 = 5.5\n",
    "\n",
    "# best action should be 1\n",
    "print(\"Best performing action: action\",get_best_action(range(1,4), history))"
   ]
  },
  {
   "cell_type": "code",
   "execution_count": 44,
   "metadata": {},
   "outputs": [
    {
     "name": "stdout",
     "output_type": "stream",
     "text": [
      "[1, 2]\n"
     ]
    }
   ],
   "source": []
  },
  {
   "cell_type": "code",
   "execution_count": null,
   "metadata": {},
   "outputs": [],
   "source": []
  }
 ],
 "metadata": {
  "kernelspec": {
   "display_name": "Python 3",
   "language": "python",
   "name": "python3"
  },
  "language_info": {
   "codemirror_mode": {
    "name": "ipython",
    "version": 3
   },
   "file_extension": ".py",
   "mimetype": "text/x-python",
   "name": "python",
   "nbconvert_exporter": "python",
   "pygments_lexer": "ipython3",
   "version": "3.7.3"
  }
 },
 "nbformat": 4,
 "nbformat_minor": 2
}
