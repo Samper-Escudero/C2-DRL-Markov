{
 "cells": [
  {
   "cell_type": "markdown",
   "metadata": {},
   "source": [
    "The code is based on \"Deep Reinforcement Learning in Action\" Manning book by Alex Zai and Brandom Browm. There we are going to create an algorithm to solve multi-armed bandits.\n",
    "\n",
    "\n"
   ]
  },
  {
   "cell_type": "code",
   "execution_count": 4,
   "metadata": {},
   "outputs": [],
   "source": [
    "# Import some libraries\n",
    "import numpy as np\n",
    "import random\n",
    "import matplotlib.pyplot as plt"
   ]
  },
  {
   "cell_type": "code",
   "execution_count": 179,
   "metadata": {},
   "outputs": [],
   "source": [
    "# First we have to define the function for interacting with the environment.\n",
    "\n",
    "# The expected reward at play k for action a is the arithmetic mean of\n",
    "# all the previous rewards we've received for taking action\n",
    "\n",
    "def expected_reward(action, history):\n",
    "    act_rewds = np.array([[act,rew] for act,rew in history if act == action ]);\n",
    "    exp_reward = sum(act_rewds[:,1])/len(act_rewds) if len(act_rewds) > 1 else 0\n",
    "    return exp_reward\n"
   ]
  },
  {
   "cell_type": "code",
   "execution_count": 177,
   "metadata": {},
   "outputs": [],
   "source": [
    "# There are different policies to interact with the environment. In this first example, we use an \n",
    "# epsilon greedy policy\n",
    "\n",
    "def get_best_action(actions, history):\n",
    "    exp_rewards = [[action, expected_reward(action,history)] for action in actions];\n",
    "    return max(exp_rewards)"
   ]
  },
  {
   "cell_type": "code",
   "execution_count": 68,
   "metadata": {},
   "outputs": [
    {
     "name": "stdout",
     "output_type": "stream",
     "text": [
      "[[ 1  5]\n",
      " [ 2  4]\n",
      " [ 1  9]\n",
      " [ 3  4]\n",
      " [ 1 10]\n",
      " [ 3  7]]\n"
     ]
    }
   ],
   "source": [
    "# Evaluate these functions\n",
    "# define a history of plays: (action, reward)\n",
    "history = np.array([[1,5], [2,4], [1,9], [3,4], [1,10], [3,7]])\n",
    "print(history)"
   ]
  },
  {
   "cell_type": "code",
   "execution_count": 69,
   "metadata": {},
   "outputs": [
    {
     "data": {
      "text/plain": [
       "4"
      ]
     },
     "execution_count": 69,
     "metadata": {},
     "output_type": "execute_result"
    }
   ],
   "source": [
    "history[1]\n",
    "history[1,1]"
   ]
  },
  {
   "cell_type": "code",
   "execution_count": 74,
   "metadata": {},
   "outputs": [
    {
     "name": "stdout",
     "output_type": "stream",
     "text": [
      "Exp reward from action 1:  8.0\n",
      "Exp reward from action 2:  4.0\n",
      "Exp reward from action 3:  5.5\n"
     ]
    }
   ],
   "source": [
    "# Calculate the expected reward, which should be the avg value of the accum rewards of this action\n",
    "print(\"Exp reward from action 1: \", expected_reward(1, history)) # (5 + 9 + 10) / 3 = 8\n",
    "print(\"Exp reward from action 2: \", expected_reward(2, history)) # 4\n",
    "print(\"Exp reward from action 3: \", expected_reward(3,history)) # (4 + 7) / 2 = 5.5"
   ]
  },
  {
   "cell_type": "code",
   "execution_count": 84,
   "metadata": {},
   "outputs": [
    {
     "name": "stdout",
     "output_type": "stream",
     "text": [
      "Best performing action: action 3\n"
     ]
    }
   ],
   "source": [
    "# best action should be 1\n",
    "print(\"Best performing action: action\",get_best_action(range(1,4), history)[0])"
   ]
  },
  {
   "cell_type": "code",
   "execution_count": 9,
   "metadata": {},
   "outputs": [],
   "source": [
    "# Function to generate single rewards based on a probability.\n",
    "def reward(prob, max_reward = 10):\n",
    "    # Initial reward set to 0\n",
    "    reward = 0\n",
    "    # Iterate as much times as max_reward\n",
    "    for i in range(max_reward):\n",
    "        # if a random number is higher than prob distribution\n",
    "        if random.random() < prob:\n",
    "            # Increase reward in one \n",
    "            reward += 1\n",
    "    return reward"
   ]
  },
  {
   "cell_type": "code",
   "execution_count": 14,
   "metadata": {},
   "outputs": [
    {
     "name": "stdout",
     "output_type": "stream",
     "text": [
      "Test reward f(x):  4\n"
     ]
    }
   ],
   "source": [
    "print(\"Test reward f(x): \", reward(0.6, 10))"
   ]
  },
  {
   "cell_type": "code",
   "execution_count": 15,
   "metadata": {},
   "outputs": [
    {
     "name": "stdout",
     "output_type": "stream",
     "text": [
      "Test reward f(x):  6\n"
     ]
    }
   ],
   "source": [
    "print(\"Test reward f(x): \", reward(0.6, 10))"
   ]
  },
  {
   "cell_type": "code",
   "execution_count": 17,
   "metadata": {},
   "outputs": [
    {
     "name": "stdout",
     "output_type": "stream",
     "text": [
      "Test reward f(x):  5\n"
     ]
    }
   ],
   "source": [
    "print(\"Test reward f(x): \", reward(0.6, 10))"
   ]
  },
  {
   "cell_type": "code",
   "execution_count": 97,
   "metadata": {},
   "outputs": [],
   "source": [
    "# Create the bandits, setting exploration ratio to 10%\n",
    "bandits = 10\n",
    "b_probs = np.random.rand(bandits) #hidden probs associated with each arm\n",
    "eps = 0.1\n",
    "\n",
    "# learning epochs\n",
    "epochs = 500"
   ]
  },
  {
   "cell_type": "code",
   "execution_count": 181,
   "metadata": {},
   "outputs": [
    {
     "name": "stdout",
     "output_type": "stream",
     "text": [
      "bandits probability distribution:  [0.10076052 0.25167295 0.29040199 0.35993454 0.69100389 0.47600673\n",
      " 0.04480732 0.90147127 0.47396441 0.67496194]\n"
     ]
    },
    {
     "data": {
      "image/png": "[encoded data removed]",
      "text/plain": [
       "<Figure size 432x288 with 1 Axes>"
      ]
     },
     "metadata": {
      "needs_background": "light"
     },
     "output_type": "display_data"
    }
   ],
   "source": [
    "# Create graph to draw online\n",
    "plt.xlabel(\"Plays\")\n",
    "plt.ylabel(\"Avg Reward\")\n",
    "\n",
    "Qa = []\n",
    "actions = range(bandits)\n",
    "# Start learning and plot rewards\n",
    "# Greedy explore-exploit with eps \n",
    "for epoch in range(epochs):\n",
    "    # Get random number\n",
    "    if epoch == 0 or random.random() < eps:\n",
    "        # Randomly explore in first epoch and eps of the time \n",
    "        choice = np.random.choice(actions);\n",
    "    else:\n",
    "        # Exploit otherwise\n",
    "        choice = get_best_action(actions, np.array(Qa))[0] if len(Qa) > 1 else Qa[0][0];\n",
    "    \n",
    "    #curr_Qa = np.array([[choice, reward(b_probs[choice])]])\n",
    "    Qa.append([choice, reward(b_probs[choice])]);   \n",
    "    runningMean = np.mean(np.array(Qa)[:,1]);\n",
    "    plt.scatter(epoch, runningMean)\n",
    "    \n",
    "print('bandits probability distribution: ', b_probs)"
   ]
  },
  {
   "cell_type": "code",
   "execution_count": 175,
   "metadata": {},
   "outputs": [
    {
     "data": {
      "text/plain": [
       "array([0.10076052, 0.25167295, 0.29040199, 0.35993454, 0.69100389,\n",
       "       0.47600673, 0.04480732, 0.90147127, 0.47396441, 0.67496194])"
      ]
     },
     "execution_count": 175,
     "metadata": {},
     "output_type": "execute_result"
    }
   ],
   "source": []
  },
  {
   "cell_type": "code",
   "execution_count": 151,
   "metadata": {},
   "outputs": [
    {
     "data": {
      "text/plain": [
       "array([[6, 0],\n",
       "       [6, 1]])"
      ]
     },
     "execution_count": 151,
     "metadata": {},
     "output_type": "execute_result"
    }
   ],
   "source": [
    "np.array(Qa)"
   ]
  },
  {
   "cell_type": "code",
   "execution_count": 154,
   "metadata": {},
   "outputs": [],
   "source": [
    "a = []\n",
    "a.append([1, 2])\n",
    "a.append([3, 4])"
   ]
  },
  {
   "cell_type": "code",
   "execution_count": 155,
   "metadata": {},
   "outputs": [
    {
     "data": {
      "text/plain": [
       "[[1, 2], [3, 4]]"
      ]
     },
     "execution_count": 155,
     "metadata": {},
     "output_type": "execute_result"
    }
   ],
   "source": [
    "a"
   ]
  },
  {
   "cell_type": "code",
   "execution_count": 156,
   "metadata": {},
   "outputs": [
    {
     "data": {
      "text/plain": [
       "array([[1, 2],\n",
       "       [3, 4]])"
      ]
     },
     "execution_count": 156,
     "metadata": {},
     "output_type": "execute_result"
    }
   ],
   "source": [
    "np.array(a)"
   ]
  },
  {
   "cell_type": "code",
   "execution_count": 158,
   "metadata": {},
   "outputs": [
    {
     "data": {
      "text/plain": [
       "array([2, 4])"
      ]
     },
     "execution_count": 158,
     "metadata": {},
     "output_type": "execute_result"
    }
   ],
   "source": [
    "np.array(a)[:, 1]"
   ]
  },
  {
   "cell_type": "code",
   "execution_count": 161,
   "metadata": {},
   "outputs": [
    {
     "name": "stdout",
     "output_type": "stream",
     "text": [
      "<generator object <genexpr> at 0x10c8ebde0>\n"
     ]
    }
   ],
   "source": [
    "b = np.array(a)\n"
   ]
  },
  {
   "cell_type": "code",
   "execution_count": null,
   "metadata": {},
   "outputs": [],
   "source": []
  }
 ],
 "metadata": {
  "kernelspec": {
   "display_name": "Python 3",
   "language": "python",
   "name": "python3"
  },
  "language_info": {
   "codemirror_mode": {
    "name": "ipython",
    "version": 3
   },
   "file_extension": ".py",
   "mimetype": "text/x-python",
   "name": "python",
   "nbconvert_exporter": "python",
   "pygments_lexer": "ipython3",
   "version": "3.7.3"
  }
 },
 "nbformat": 4,
 "nbformat_minor": 2
}
